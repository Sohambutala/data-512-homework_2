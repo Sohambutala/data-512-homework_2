{
 "cells": [
  {
   "attachments": {},
   "cell_type": "markdown",
   "metadata": {},
   "source": [
    "# Analyzing US Population and Wikipedia Articles for Cities\n",
    "This Jupyter notebook analyzes demographic data related to US cities and Wikipedia articles associated with these cities.\n",
    "\n",
    "## Load Data from CSV"
   ]
  },
  {
   "cell_type": "code",
   "execution_count": 42,
   "metadata": {},
   "outputs": [
    {
     "data": {
      "text/html": [
       "<div>\n",
       "<style scoped>\n",
       "    .dataframe tbody tr th:only-of-type {\n",
       "        vertical-align: middle;\n",
       "    }\n",
       "\n",
       "    .dataframe tbody tr th {\n",
       "        vertical-align: top;\n",
       "    }\n",
       "\n",
       "    .dataframe thead th {\n",
       "        text-align: right;\n",
       "    }\n",
       "</style>\n",
       "<table border=\"1\" class=\"dataframe\">\n",
       "  <thead>\n",
       "    <tr style=\"text-align: right;\">\n",
       "      <th></th>\n",
       "      <th>population</th>\n",
       "      <th>state</th>\n",
       "      <th>regional_division</th>\n",
       "      <th>state.1</th>\n",
       "      <th>article_title</th>\n",
       "      <th>revision_id</th>\n",
       "      <th>article_quality</th>\n",
       "    </tr>\n",
       "  </thead>\n",
       "  <tbody>\n",
       "    <tr>\n",
       "      <th>0</th>\n",
       "      <td>5074296</td>\n",
       "      <td>Alabama</td>\n",
       "      <td>South_East South Central</td>\n",
       "      <td>Alabama</td>\n",
       "      <td>Abbeville, Alabama</td>\n",
       "      <td>1171163550</td>\n",
       "      <td>C</td>\n",
       "    </tr>\n",
       "    <tr>\n",
       "      <th>1</th>\n",
       "      <td>5074296</td>\n",
       "      <td>Alabama</td>\n",
       "      <td>South_East South Central</td>\n",
       "      <td>Alabama</td>\n",
       "      <td>Adamsville, Alabama</td>\n",
       "      <td>1177621427</td>\n",
       "      <td>C</td>\n",
       "    </tr>\n",
       "    <tr>\n",
       "      <th>2</th>\n",
       "      <td>5074296</td>\n",
       "      <td>Alabama</td>\n",
       "      <td>South_East South Central</td>\n",
       "      <td>Alabama</td>\n",
       "      <td>Addison, Alabama</td>\n",
       "      <td>1168359898</td>\n",
       "      <td>C</td>\n",
       "    </tr>\n",
       "    <tr>\n",
       "      <th>3</th>\n",
       "      <td>5074296</td>\n",
       "      <td>Alabama</td>\n",
       "      <td>South_East South Central</td>\n",
       "      <td>Alabama</td>\n",
       "      <td>Akron, Alabama</td>\n",
       "      <td>1165909508</td>\n",
       "      <td>GA</td>\n",
       "    </tr>\n",
       "    <tr>\n",
       "      <th>4</th>\n",
       "      <td>5074296</td>\n",
       "      <td>Alabama</td>\n",
       "      <td>South_East South Central</td>\n",
       "      <td>Alabama</td>\n",
       "      <td>Alabaster, Alabama</td>\n",
       "      <td>1179139816</td>\n",
       "      <td>C</td>\n",
       "    </tr>\n",
       "  </tbody>\n",
       "</table>\n",
       "</div>"
      ],
      "text/plain": [
       "   population    state         regional_division  state.1  \\\n",
       "0     5074296  Alabama  South_East South Central  Alabama   \n",
       "1     5074296  Alabama  South_East South Central  Alabama   \n",
       "2     5074296  Alabama  South_East South Central  Alabama   \n",
       "3     5074296  Alabama  South_East South Central  Alabama   \n",
       "4     5074296  Alabama  South_East South Central  Alabama   \n",
       "\n",
       "         article_title  revision_id article_quality  \n",
       "0   Abbeville, Alabama   1171163550               C  \n",
       "1  Adamsville, Alabama   1177621427               C  \n",
       "2     Addison, Alabama   1168359898               C  \n",
       "3       Akron, Alabama   1165909508              GA  \n",
       "4   Alabaster, Alabama   1179139816               C  "
      ]
     },
     "execution_count": 42,
     "metadata": {},
     "output_type": "execute_result"
    }
   ],
   "source": [
    "# Import necessary libraries and load the data\n",
    "import pandas as pd\n",
    "fp = 'data/wp_scored_city_articles_by_state.csv'\n",
    "data = pd.read_csv(fp)\n",
    "\n",
    "data.head()"
   ]
  },
  {
   "attachments": {},
   "cell_type": "markdown",
   "metadata": {},
   "source": [
    "## Analysis"
   ]
  },
  {
   "attachments": {},
   "cell_type": "markdown",
   "metadata": {},
   "source": [
    "### 1. Top 10 US states by coverage: The 10 US states with the highest total articles per capita (in descending order)\n",
    "\n",
    "In this code, we first group the data by state and calculate coverage per capita by dividing the count of articles by the mean population. We then sort the states based on coverage per capita, create a DataFrame with the sorted values, and display the top 10 states with the highest coverage per capita. The code provides insights into the top-performing US states in terms of coverage per capita for the given dataset."
   ]
  },
  {
   "cell_type": "code",
   "execution_count": 43,
   "metadata": {},
   "outputs": [
    {
     "name": "stdout",
     "output_type": "stream",
     "text": [
      "Top 10 US States by Coverage\n",
      "              Total Articles per Capita\n",
      "state                                  \n",
      "Vermont                        0.000508\n",
      "North Dakota                   0.000457\n",
      "Maine                          0.000349\n",
      "South Dakota                   0.000342\n",
      "Iowa                           0.000326\n",
      "Alaska                         0.000203\n",
      "Pennsylvania                   0.000197\n",
      "Alabama                        0.000182\n",
      "Michigan                       0.000177\n",
      "Wyoming                        0.000170\n"
     ]
    }
   ],
   "source": [
    "# Group by state and calculate coverage per capita\n",
    "statewise_count = data.groupby('state')['article_title'].count()\n",
    "statewise_pop = data.groupby('state')['population'].mean()\n",
    "statewise_coverage_per_capita = statewise_count / statewise_pop\n",
    "\n",
    "# Sort by coverage per capita in descending order\n",
    "top_state_coverage = statewise_coverage_per_capita.sort_values(ascending=False)\n",
    "\n",
    "# Create a DataFrame and rename columns\n",
    "top_state_coverage = top_state_coverage.to_frame(name='Total Articles per Capita')\n",
    "\n",
    "# Display the top 10 states by coverage per capita\n",
    "top_10_state_coverage = top_state_coverage.head(10)\n",
    "\n",
    "print(\"Top 10 US States by Coverage\")\n",
    "print(top_10_state_coverage)"
   ]
  },
  {
   "attachments": {},
   "cell_type": "markdown",
   "metadata": {},
   "source": [
    "### 2. Bottom 10 US states by coverage: The 10 US states with the lowest total articles per capita (in ascending order)\n",
    "\n",
    "We first sort the DataFrame statewise_coverage_per_capita in ascending order using sort_values. Next, we extract the top 10 rows (states with the lowest 'Total Articles per Capita') using head(10). We rename the column to 'Total Articles per Capita' for clarity. Finally, we print the top 10 states with the lowest 'Total Articles per Capita'."
   ]
  },
  {
   "cell_type": "code",
   "execution_count": 44,
   "metadata": {},
   "outputs": [
    {
     "name": "stdout",
     "output_type": "stream",
     "text": [
      "Bottom 10 US States by Coverage\n",
      "                Total Articles per Capita\n",
      "state                                    \n",
      "North Carolina                   0.000005\n",
      "Nevada                           0.000006\n",
      "California                       0.000012\n",
      "Arizona                          0.000012\n",
      "Florida                          0.000019\n",
      "Oklahoma                         0.000019\n",
      "Kansas                           0.000021\n",
      "Maryland                         0.000025\n",
      "Virginia                         0.000031\n",
      "Wisconsin                        0.000033\n"
     ]
    }
   ],
   "source": [
    "# Sort the DataFrame by values\n",
    "statewise_coverage_per_capita = statewise_coverage_per_capita.sort_values()\n",
    "\n",
    "# Get the bottom 10 states\n",
    "bottom_state_coverage = statewise_coverage_per_capita.head(10).to_frame().rename(columns={0: 'Total Articles per Capita'})\n",
    "\n",
    "print(\"Bottom 10 US States by Coverage\")\n",
    "print(bottom_state_coverage)\n"
   ]
  },
  {
   "attachments": {},
   "cell_type": "markdown",
   "metadata": {},
   "source": [
    "### 3. Top 10 US states by high quality: The 10 US states with the highest high quality articles per capita (in descending order)\n",
    "\n",
    "The code filters high-quality articles (FA and GA) from the given dataset, calculates the coverage per capita for each state based on the mean population, and then identifies the top 10 states with the highest coverage per capita of high-quality articles."
   ]
  },
  {
   "cell_type": "code",
   "execution_count": 45,
   "metadata": {},
   "outputs": [
    {
     "name": "stdout",
     "output_type": "stream",
     "text": [
      "Top 10 US States by High Quality\n",
      "state\n",
      "Vermont          0.000070\n",
      "Wyoming          0.000067\n",
      "South Dakota     0.000062\n",
      "West Virginia    0.000060\n",
      "Montana          0.000049\n",
      "New Hampshire    0.000045\n",
      "Pennsylvania     0.000044\n",
      "Missouri         0.000043\n",
      "Alaska           0.000042\n",
      "New Jersey       0.000041\n",
      "dtype: float64\n"
     ]
    }
   ],
   "source": [
    "# Filter high-quality articles (FA and GA)\n",
    "hq_articles = data[data['article_quality'].isin(['FA', 'GA'])]\n",
    "\n",
    "# Group by state and calculate coverage per capita\n",
    "hq_statewise_coverage_per_capita = hq_articles.groupby('state').size() / hq_articles.groupby('state')['population'].mean()\n",
    "\n",
    "# Sort the coverage per capita in descending order\n",
    "hq_top_state_coverage = hq_statewise_coverage_per_capita.sort_values(ascending=False).head(10)\n",
    "\n",
    "print(\"Top 10 US States by High Quality\")\n",
    "print(hq_top_state_coverage)\n"
   ]
  },
  {
   "attachments": {},
   "cell_type": "markdown",
   "metadata": {},
   "source": [
    "### 4. Bottom 10 US states by high quality: The 10 US states with the lowest high quality articles per capita (in ascending order)\n",
    "\n",
    "The below code first sorts the DataFrame hq_statewise_coverage_per_capita in ascending order. It then creates a new DataFrame hq_bottom_state_coverage with the sorted data and renames the column to 'Total Articles per Capita'. Finally, it displays the top 10 rows of this new DataFrame."
   ]
  },
  {
   "cell_type": "code",
   "execution_count": 46,
   "metadata": {},
   "outputs": [
    {
     "name": "stdout",
     "output_type": "stream",
     "text": [
      "Bottom 10 US States by High Quality\n",
      "                Total Articles per Capita\n",
      "state                                    \n",
      "North Carolina                   0.000002\n",
      "Nevada                           0.000003\n",
      "Arizona                          0.000003\n",
      "Virginia                         0.000004\n",
      "California                       0.000004\n",
      "Florida                          0.000005\n",
      "New York                         0.000006\n",
      "Maryland                         0.000007\n",
      "Kansas                           0.000007\n",
      "Oklahoma                         0.000008\n"
     ]
    }
   ],
   "source": [
    "# Sort the DataFrame in-place\n",
    "hq_statewise_coverage_per_capita.sort_values(inplace=True)\n",
    "\n",
    "# Create a DataFrame with renamed column\n",
    "hq_bottom_state_coverage = hq_statewise_coverage_per_capita.to_frame(name='Total Articles per Capita')\n",
    "\n",
    "print(\"Bottom 10 US States by High Quality\")\n",
    "print(hq_bottom_state_coverage.head(10))\n"
   ]
  },
  {
   "attachments": {},
   "cell_type": "markdown",
   "metadata": {},
   "source": [
    "### 5. Census divisions by total coverage: A rank ordered list of US census divisions (in descending order) by total articles per capita\n",
    "\n",
    "This code first calculates the mean of numeric columns per state and associates the regional division with each state. It then counts the number of articles per state, merges the data, and calculates the article coverage per capita for each region. Finally, it sorts the coverage values in descending order and assigns ranks to each region based on coverage."
   ]
  },
  {
   "cell_type": "code",
   "execution_count": 47,
   "metadata": {},
   "outputs": [
    {
     "name": "stdout",
     "output_type": "stream",
     "text": [
      "Census Divisions by Total Coverage\n",
      "                            Total_Articles_per_Capita  Rank\n",
      "regional_division                                          \n",
      "Midwest_West North Central                   0.000181     1\n",
      "Northeast_New England                        0.000125     2\n",
      "South_East South Central                     0.000102     3\n",
      "Midwest_East North Central                   0.000101     4\n",
      "Northeast_Middle Atlantic                    0.000090     5\n",
      "South_West South Central                     0.000051     6\n",
      "West_Mountain                                0.000047     7\n",
      "South_South Atlantic                         0.000030     8\n",
      "West_Pacific                                 0.000024     9\n"
     ]
    }
   ],
   "source": [
    "# Calculate mean of numeric columns per state\n",
    "mean_state_data = data.groupby('state').mean(numeric_only=True)\n",
    "mean_state_data.reset_index(inplace=True)\n",
    "\n",
    "# Retrieve regional division for each state\n",
    "state_regions = [data[data['state'] == st].iloc[0]['regional_division'] for st in mean_state_data['state']]\n",
    "mean_state_data['regional_division'] = state_regions\n",
    "\n",
    "# Count the number of articles per state\n",
    "article_count_per_state = data.groupby('state').count()\n",
    "article_count_per_state.reset_index(inplace=True)\n",
    "article_count_per_state.drop(['regional_division', 'population', 'revision_id', 'article_quality'], axis=1, inplace=True)\n",
    "\n",
    "# Merge mean data with article count per state\n",
    "merged_state_data = pd.merge(mean_state_data, article_count_per_state, left_on='state', right_on='state', how='inner')\n",
    "\n",
    "# Calculate region-wise article coverage per capita\n",
    "region_population = merged_state_data.groupby('regional_division')['population'].sum()\n",
    "region_article_count = merged_state_data.groupby('regional_division')['article_title'].sum()\n",
    "regionwise_coverage_per_capita = region_article_count / region_population\n",
    "\n",
    "# Sort the coverage values in descending order\n",
    "regionwise_coverage_per_capita.sort_values(ascending=False, inplace=True)\n",
    "\n",
    "# Create a DataFrame for region-wise coverage per capita\n",
    "regionwise_coverage = regionwise_coverage_per_capita.to_frame()\n",
    "regionwise_coverage = regionwise_coverage.rename(columns={0: 'Total_Articles_per_Capita'})\n",
    "regionwise_coverage['Rank'] = range(1, len(regionwise_coverage) + 1)\n",
    "\n",
    "print(\"Census Divisions by Total Coverage\")\n",
    "print(regionwise_coverage)"
   ]
  },
  {
   "attachments": {},
   "cell_type": "markdown",
   "metadata": {},
   "source": [
    "### 6. Census Divisions by High Quality Coverage: Rank ordered list of US census divisions (in descending order) by high quality articles per capita\n",
    "\n",
    "We first calculate the mean values and extract the regional division for high-quality articles per state. We then calculate the count of high-quality articles per state and merge these datasets. Next, we calculate region-wise high-quality article counts and coverage per capita. Finally, we sort the coverage per capita and present it in a DataFrame with the respective ranks."
   ]
  },
  {
   "cell_type": "code",
   "execution_count": 48,
   "metadata": {},
   "outputs": [
    {
     "name": "stdout",
     "output_type": "stream",
     "text": [
      "Census Divisions by High Quality Coverage\n",
      "            regional_division  Total Articles per Capita  Rank\n",
      "0  Midwest_West North Central                   0.000033     1\n",
      "1   Northeast_Middle Atlantic                   0.000025     2\n",
      "2       Northeast_New England                   0.000020     3\n",
      "3    South_East South Central                   0.000019     4\n",
      "4  Midwest_East North Central                   0.000015     5\n",
      "5    South_West South Central                   0.000015     6\n",
      "6               West_Mountain                   0.000014     7\n",
      "7                West_Pacific                   0.000009     8\n",
      "8        South_South Atlantic                   0.000008     9\n"
     ]
    }
   ],
   "source": [
    "# Calculate mean values for each state in the hq_articles DataFrame\n",
    "state_mean_quality = hq_articles.groupby('state').mean(numeric_only=True).reset_index()\n",
    "\n",
    "# Extract the regional division for each state\n",
    "state_regions = hq_articles.groupby('state')['regional_division'].first().reset_index()\n",
    "state_mean_quality['regional_division'] = state_regions['regional_division']\n",
    "\n",
    "# Count the number of articles for each state\n",
    "state_article_count = hq_articles.groupby('state').count().reset_index()\n",
    "\n",
    "# Drop unnecessary columns\n",
    "state_article_count.drop(['regional_division', 'population', 'revision_id', 'article_quality'], axis=1, inplace=True)\n",
    "\n",
    "# Merge the mean quality and article count DataFrames\n",
    "state_quality_count = pd.merge(state_mean_quality, state_article_count, on='state', how='inner')\n",
    "\n",
    "# Calculate the total articles per capita for each regional division\n",
    "regionwise_article_count = state_quality_count.groupby('regional_division')['article_title'].sum()\n",
    "regionwise_population = state_quality_count.groupby('regional_division')['population'].sum()\n",
    "regionwise_coverage_per_capita = regionwise_article_count / regionwise_population\n",
    "\n",
    "# Sort the regional divisions by coverage per capita\n",
    "regionwise_coverage_per_capita = regionwise_coverage_per_capita.sort_values(ascending=False)\n",
    "\n",
    "# Create a DataFrame to store regional division-wise coverage and rank\n",
    "regionwise_coverage = regionwise_coverage_per_capita.to_frame().reset_index()\n",
    "regionwise_coverage = regionwise_coverage.rename(columns={0: 'Total Articles per Capita'})\n",
    "regionwise_coverage['Rank'] = range(1, len(regionwise_coverage) + 1)\n",
    "\n",
    "print(\"Census Divisions by High Quality Coverage\")\n",
    "print(regionwise_coverage)"
   ]
  }
 ],
 "metadata": {
  "kernelspec": {
   "display_name": "base",
   "language": "python",
   "name": "python3"
  },
  "language_info": {
   "codemirror_mode": {
    "name": "ipython",
    "version": 3
   },
   "file_extension": ".py",
   "mimetype": "text/x-python",
   "name": "python",
   "nbconvert_exporter": "python",
   "pygments_lexer": "ipython3",
   "version": "3.11.5"
  },
  "orig_nbformat": 4
 },
 "nbformat": 4,
 "nbformat_minor": 2
}
